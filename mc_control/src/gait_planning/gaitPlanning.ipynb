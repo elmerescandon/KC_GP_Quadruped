{
 "cells": [
  {
   "cell_type": "markdown",
   "id": "0d89d705",
   "metadata": {},
   "source": [
    "# Gait planning 1423\n",
    "\n",
    "Robótica Avanzada 2021-2 **UTEC**\n",
    "\n",
    "Joaquín **Cornejo** - Raul **Escandón**"
   ]
  },
  {
   "cell_type": "markdown",
   "id": "efb3d746",
   "metadata": {},
   "source": [
    "## 0. Librerías"
   ]
  },
  {
   "cell_type": "code",
   "execution_count": 1,
   "id": "a613f9ab",
   "metadata": {},
   "outputs": [],
   "source": [
    "import numpy as np\n",
    "import matplotlib.pyplot as plt\n",
    "\n",
    "from sympy.matrices import Matrix\n",
    "import sympy as sp\n",
    "\n",
    "import copy as cp"
   ]
  },
  {
   "cell_type": "markdown",
   "id": "f1c96856",
   "metadata": {},
   "source": [
    "## 1. Funciones"
   ]
  },
  {
   "cell_type": "code",
   "execution_count": 2,
   "id": "0afd3e69",
   "metadata": {
    "scrolled": false
   },
   "outputs": [],
   "source": [
    "def axValues(A,B,axis):\n",
    "    if axis == 0:\n",
    "        return [A[0],B[0]]\n",
    "    else:\n",
    "        return [A[1],B[1]]\n",
    "    \n",
    "#Calculate distances\n",
    "\n",
    "def pointDistance(A,B):\n",
    "    return np.linalg.norm(B-A)\n",
    "\n",
    "#Calculate Incenter\n",
    "\n",
    "def pointIncenter(A,B,C):\n",
    "    \n",
    "    da = pointDistance(B,C)\n",
    "    db = pointDistance(C,A)\n",
    "    dc = pointDistance(A,B)\n",
    "    \n",
    "    p = da+db+dc\n",
    "    Ox = (da*A[0] + db*B[0] + dc*C[0])/p\n",
    "    Oy = (da*A[1] + db*B[1] + dc*C[1])/p\n",
    "    \n",
    "    O = np.array([Ox,Oy])\n",
    "    \n",
    "    return O\n",
    "\n",
    "#Forward movement, only in axis X\n",
    "\n",
    "def gaitCheetah(step,n,x0):\n",
    "    vectorL1 = np.zeros((n,2))\n",
    "    vectorL2 = np.zeros((n,2))\n",
    "    vectorL3 = np.zeros((n,2))\n",
    "    vectorL4 = np.zeros((n,2))\n",
    "    vectorCt = np.zeros((n,2))\n",
    "    \n",
    "    x = cp.copy(x0)\n",
    "    \n",
    "    for i in range(n):\n",
    "        index = i % 4\n",
    "        \n",
    "        legCurrent = x[index]\n",
    "        xs = np.array([legCurrent[0] + step, legCurrent[1]])  \n",
    "        \n",
    "        x[index] = xs\n",
    "        \n",
    "        \n",
    "        if index == 0:\n",
    "            vectorL4[i] = xs   #L4\n",
    "            vectorL1[i] = x[1] #L1\n",
    "            vectorL2[i] = x[2] #L2\n",
    "            vectorL3[i] = x[3] #L3\n",
    "            \n",
    "            vectorCt[i] = pointIncenter(x[1],x[2],x[3])\n",
    "            \n",
    "        elif index == 1:\n",
    "            vectorL4[i] = x[0]\n",
    "            vectorL1[i] = xs\n",
    "            vectorL2[i] = x[2]\n",
    "            vectorL3[i] = x[3]\n",
    "\n",
    "            vectorCt[i] = pointIncenter(x[0],x[2],x[3])\n",
    "            \n",
    "        elif index == 2:\n",
    "            vectorL4[i] = x[0]\n",
    "            vectorL1[i] = x[1]\n",
    "            vectorL2[i] = xs\n",
    "            vectorL3[i] = x[3]\n",
    "            \n",
    "            vectorCt[i] = pointIncenter(x[0],x[1],x[3])\n",
    "            \n",
    "        elif index == 3:\n",
    "            vectorL4[i] = x[0]\n",
    "            vectorL1[i] = x[1]\n",
    "            vectorL2[i] = x[2]\n",
    "            vectorL3[i] = xs\n",
    "            \n",
    "            vectorCt[i] = pointIncenter(x[0],x[1],x[2])\n",
    "            \n",
    "            \n",
    "        \n",
    "    return vectorL1, vectorL2, vectorL3, vectorL4, vectorCt    \n",
    "    \n",
    "def plotting(L1,L2,L3,L4,index):\n",
    "    \n",
    "    limits = [0, 4, 0, 2.5]\n",
    "    \n",
    "    if index == 0:\n",
    "        \n",
    "        plt.plot(axValues(L1,L2,0),axValues(L1,L2,1))\n",
    "        plt.plot(axValues(L2,L3,0),axValues(L2,L3,1))\n",
    "        plt.plot(axValues(L3,L1,0),axValues(L3,L1,1))\n",
    "        \n",
    "        plt.plot(L1[0],L1[1],\"ro\")\n",
    "        plt.plot(L2[0],L2[1],\"go\")\n",
    "        plt.plot(L3[0],L3[1],\"co\")\n",
    "        plt.plot(L4[0],L4[1],\"m>\")\n",
    "        plt.plot(O[0],O[1],\"ko\")\n",
    "        plt.plot(0.8,1,\"k,\")\n",
    "        plt.plot(4,1,\"k,\")\n",
    "        \n",
    "        \n",
    "        plt.axis(limits)\n",
    "        \n",
    "        plt.axis('equal')\n",
    "        plt.grid()\n",
    "        plt.show()\n",
    "        \n",
    "    elif index == 1:\n",
    "        \n",
    "        plt.plot(axValues(L2,L4,0),axValues(L2,L4,1))\n",
    "        plt.plot(axValues(L4,L3,0),axValues(L4,L3,1))\n",
    "        plt.plot(axValues(L3,L2,0),axValues(L3,L2,1))\n",
    "        \n",
    "        plt.plot(L1[0],L1[1],\"r>\")\n",
    "        plt.plot(L2[0],L2[1],\"go\")\n",
    "        plt.plot(L3[0],L3[1],\"co\")\n",
    "        plt.plot(L4[0],L4[1],\"mo\")\n",
    "        plt.plot(O[0],O[1],\"ko\")\n",
    "        plt.plot(0.8,1,\"k,\")\n",
    "        plt.plot(4,1,\"k,\")\n",
    "        \n",
    "        plt.axis(limits)\n",
    "\n",
    "        plt.axis('equal')\n",
    "        plt.grid()\n",
    "        plt.show()\n",
    "        \n",
    "    elif index == 2:\n",
    "        plt.plot(axValues(L1,L4,0),axValues(L1,L4,1))\n",
    "        plt.plot(axValues(L4,L3,0),axValues(L4,L3,1))\n",
    "        plt.plot(axValues(L3,L1,0),axValues(L3,L1,1))\n",
    "        \n",
    "        plt.plot(L1[0],L1[1],\"ro\")\n",
    "        plt.plot(L2[0],L2[1],\"g>\")\n",
    "        plt.plot(L3[0],L3[1],\"co\")\n",
    "        plt.plot(L4[0],L4[1],\"mo\")\n",
    "        plt.plot(O[0],O[1],\"ko\")\n",
    "        plt.plot(0.8,1,\"k,\")\n",
    "        plt.plot(4,1,\"k,\")\n",
    "        \n",
    "        plt.axis(limits)\n",
    "\n",
    "        plt.axis('equal')\n",
    "        plt.grid()\n",
    "        plt.show()\n",
    "        \n",
    "    elif index == 3:\n",
    "        plt.plot(axValues(L1,L2,0),axValues(L1,L2,1))\n",
    "        plt.plot(axValues(L2,L4,0),axValues(L2,L4,1))\n",
    "        plt.plot(axValues(L4,L1,0),axValues(L4,L1,1))\n",
    "        \n",
    "        plt.plot(L1[0],L1[1],\"ro\")\n",
    "        plt.plot(L2[0],L2[1],\"go\")\n",
    "        plt.plot(L3[0],L3[1],\"c>\")\n",
    "        plt.plot(L4[0],L4[1],\"mo\")\n",
    "        plt.plot(O[0],O[1],\"ko\")\n",
    "        plt.plot(0.8,1,\"k,\")\n",
    "        plt.plot(4,1,\"k,\")\n",
    "        \n",
    "        plt.axis(limits)\n",
    "\n",
    "        plt.axis('equal')\n",
    "        plt.grid()\n",
    "        plt.show()\n",
    "    "
   ]
  },
  {
   "cell_type": "markdown",
   "id": "21ea6d8d",
   "metadata": {},
   "source": [
    "## 2. Resultados"
   ]
  },
  {
   "cell_type": "code",
   "execution_count": 3,
   "id": "991f8b30",
   "metadata": {
    "scrolled": false
   },
   "outputs": [
    {
     "data": {
      "image/png": "[encoded data removed]",
      "text/plain": [
       "<Figure size 432x288 with 1 Axes>"
      ]
     },
     "metadata": {
      "needs_background": "light"
     },
     "output_type": "display_data"
    },
    {
     "data": {
      "image/png": "[encoded data removed]",
      "text/plain": [
       "<Figure size 432x288 with 1 Axes>"
      ]
     },
     "metadata": {
      "needs_background": "light"
     },
     "output_type": "display_data"
    },
    {
     "data": {
      "image/png": "[encoded data removed]",
      "text/plain": [
       "<Figure size 432x288 with 1 Axes>"
      ]
     },
     "metadata": {
      "needs_background": "light"
     },
     "output_type": "display_data"
    },
    {
     "data": {
      "image/png": "[encoded data removed]",
      "text/plain": [
       "<Figure size 432x288 with 1 Axes>"
      ]
     },
     "metadata": {
      "needs_background": "light"
     },
     "output_type": "display_data"
    },
    {
     "data": {
      "image/png": "[encoded data removed]",
      "text/plain": [
       "<Figure size 432x288 with 1 Axes>"
      ]
     },
     "metadata": {
      "needs_background": "light"
     },
     "output_type": "display_data"
    },
    {
     "data": {
      "image/png": "[encoded data removed]",
      "text/plain": [
       "<Figure size 432x288 with 1 Axes>"
      ]
     },
     "metadata": {
      "needs_background": "light"
     },
     "output_type": "display_data"
    },
    {
     "data": {
      "image/png": "[encoded data removed]",
      "text/plain": [
       "<Figure size 432x288 with 1 Axes>"
      ]
     },
     "metadata": {
      "needs_background": "light"
     },
     "output_type": "display_data"
    },
    {
     "data": {
      "image/png": "[encoded data removed]",
      "text/plain": [
       "<Figure size 432x288 with 1 Axes>"
      ]
     },
     "metadata": {
      "needs_background": "light"
     },
     "output_type": "display_data"
    }
   ],
   "source": [
    "#Define legs position\n",
    "\n",
    "L1 = np.array([1   ,1])\n",
    "L2 = np.array([2.5   ,1])\n",
    "L3 = np.array([1   ,2])\n",
    "L4 = np.array([2.5 ,2])\n",
    "\n",
    "#Gait sequence 4 - 1 - 2 -3\n",
    "\n",
    "x0 = np.vstack((L4,L1,L2,L3))\n",
    "\n",
    "#Steps\n",
    "n = 8\n",
    "\n",
    "vectorL1,vectorL2,vectorL3,vectorL4,vectorCt= gaitCheetah(0.5, n, x0)\n",
    "\n",
    "for i in range(n):\n",
    "    L1 = vectorL1[i]\n",
    "    L2 = vectorL2[i]\n",
    "    L3 = vectorL3[i]\n",
    "    L4 = vectorL4[i]\n",
    "    O  = vectorCt[i]\n",
    "    \n",
    "    index = i % 4\n",
    "    \n",
    "    plotting(L1,L2,L3,L4,index)\n",
    "    \n",
    "    \n",
    "    "
   ]
  }
 ],
 "metadata": {
  "kernelspec": {
   "display_name": "Python 3",
   "language": "python",
   "name": "python3"
  },
  "language_info": {
   "codemirror_mode": {
    "name": "ipython",
    "version": 3
   },
   "file_extension": ".py",
   "mimetype": "text/x-python",
   "name": "python",
   "nbconvert_exporter": "python",
   "pygments_lexer": "ipython3",
   "version": "3.8.8"
  }
 },
 "nbformat": 4,
 "nbformat_minor": 5
}
